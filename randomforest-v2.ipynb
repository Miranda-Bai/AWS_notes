{
 "cells": [
  {
   "cell_type": "code",
   "execution_count": 1,
   "id": "1bc374f0",
   "metadata": {
    "_cell_guid": "b1076dfc-b9ad-4769-8c92-a6c4dae69d19",
    "_uuid": "8f2839f25d086af736a60e9eeb907d3b93b6e0e5",
    "execution": {
     "iopub.execute_input": "2023-05-28T07:42:50.058865Z",
     "iopub.status.busy": "2023-05-28T07:42:50.058368Z",
     "iopub.status.idle": "2023-05-28T07:42:52.622846Z",
     "shell.execute_reply": "2023-05-28T07:42:52.621637Z"
    },
    "papermill": {
     "duration": 2.574697,
     "end_time": "2023-05-28T07:42:52.625733",
     "exception": false,
     "start_time": "2023-05-28T07:42:50.051036",
     "status": "completed"
    },
    "tags": []
   },
   "outputs": [],
   "source": [
    "# import libraries\n",
    "import pandas as pd\n",
    "import numpy as np\n",
    "import matplotlib.pyplot as plt\n",
    "from sklearn.cluster import KMeans\n",
    "from sklearn.preprocessing import MinMaxScaler\n",
    "import seaborn as sns\n",
    "from mlxtend.frequent_patterns import apriori, association_rules\n",
    "from sklearn.metrics import accuracy_score, classification_report, confusion_matrix, precision_score, recall_score, f1_score, roc_curve, auc"
   ]
  },
  {
   "cell_type": "code",
   "execution_count": 2,
   "id": "03dd95ec",
   "metadata": {
    "execution": {
     "iopub.execute_input": "2023-05-28T07:42:52.638167Z",
     "iopub.status.busy": "2023-05-28T07:42:52.637754Z",
     "iopub.status.idle": "2023-05-28T07:42:52.802012Z",
     "shell.execute_reply": "2023-05-28T07:42:52.800809Z"
    },
    "papermill": {
     "duration": 0.174011,
     "end_time": "2023-05-28T07:42:52.805163",
     "exception": false,
     "start_time": "2023-05-28T07:42:52.631152",
     "status": "completed"
    },
    "tags": []
   },
   "outputs": [
    {
     "data": {
      "text/plain": [
       "(25843, 19)"
      ]
     },
     "execution_count": 2,
     "metadata": {},
     "output_type": "execute_result"
    }
   ],
   "source": [
    "# load data\n",
    "data = pd.read_csv('/kaggle/input/combinevle/combineVle.csv')\n",
    "data.shape"
   ]
  },
  {
   "cell_type": "code",
   "execution_count": 3,
   "id": "34803ea9",
   "metadata": {
    "execution": {
     "iopub.execute_input": "2023-05-28T07:42:52.818495Z",
     "iopub.status.busy": "2023-05-28T07:42:52.818075Z",
     "iopub.status.idle": "2023-05-28T07:42:52.831478Z",
     "shell.execute_reply": "2023-05-28T07:42:52.830203Z"
    },
    "papermill": {
     "duration": 0.02348,
     "end_time": "2023-05-28T07:42:52.834316",
     "exception": false,
     "start_time": "2023-05-28T07:42:52.810836",
     "status": "completed"
    },
    "tags": []
   },
   "outputs": [],
   "source": [
    "data.rename(columns={\"total_score*weight\":\"total_score\"}, inplace=True)"
   ]
  },
  {
   "cell_type": "code",
   "execution_count": 4,
   "id": "3844ebe0",
   "metadata": {
    "execution": {
     "iopub.execute_input": "2023-05-28T07:42:52.847731Z",
     "iopub.status.busy": "2023-05-28T07:42:52.847291Z",
     "iopub.status.idle": "2023-05-28T07:42:52.900711Z",
     "shell.execute_reply": "2023-05-28T07:42:52.899508Z"
    },
    "papermill": {
     "duration": 0.063611,
     "end_time": "2023-05-28T07:42:52.903560",
     "exception": false,
     "start_time": "2023-05-28T07:42:52.839949",
     "status": "completed"
    },
    "tags": []
   },
   "outputs": [
    {
     "data": {
      "text/plain": [
       "(25843, 19)"
      ]
     },
     "execution_count": 4,
     "metadata": {},
     "output_type": "execute_result"
    }
   ],
   "source": [
    "# process data, change string to integer\n",
    "# change age_band\n",
    "data[\"age_band\"] = data[\"age_band\"].map({\"0-35\":1, \"35-55\":2, \"55<=\":3})\n",
    "\n",
    "# preprocess \"edu\" column\n",
    "data[\"highest_education\"] = data[\"highest_education\"] .map({\"No Formal quals\":0, \"Lower Than A Level\":1, \"A Level or Equivalent\":2, \"HE Qualification\":3, \"Post Graduate Qualification\":4})\n",
    "\n",
    "# change imd_band \n",
    "data[\"imd_band\"] = data[\"imd_band\"].map({\"0-10%\":0, \"10-20%\":1, \"20-30%\":2, \"30-40%\":3, \"40-50%\":4, \"50-60%\":5, \"60-70%\":6, \"70-80%\":7, \"80-90%\":8, \"90-100%\":9})\n",
    "\n",
    "# change module_presentation\n",
    "change={\"AAA_2013J\":1, \"AAA_2014J\":2, \"BBB_2013B\":3, \"BBB_2013J\":4, \"BBB_2014B\":5, \"BBB_2014J\":6, \"CCC_2014B\":7, \"CCC_2014J\":8,\\\n",
    "        \"DDD_2013B\":9, \"DDD_2013J\":10, \"DDD_2014B\":11, \"DDD_2014J\":12, \"EEE_2013J\":13, \"EEE_2014B\":14, \"EEE_2014J\":15,\\\n",
    "        \"FFF_2013B\":16, \"FFF_2013J\":17, \"FFF_2014B\":18, \"FFF_2014J\":19, \"GGG_2013J\":20, \"GGG_2014B\":21, \"GGG_2014J\":22}\n",
    "data[\"module_presentation\"] = data[\"module_presentation\"].map(change)\n",
    "\n",
    "# change final_result\n",
    "data[\"final_result\"] = data[\"final_result\"].map({\"Withdrawn\":0,  \"Fail\":0,  \"Pass\":1, \"Distinction\":1})\n",
    "data.shape"
   ]
  },
  {
   "cell_type": "code",
   "execution_count": 5,
   "id": "959b924c",
   "metadata": {
    "execution": {
     "iopub.execute_input": "2023-05-28T07:42:52.916690Z",
     "iopub.status.busy": "2023-05-28T07:42:52.916273Z",
     "iopub.status.idle": "2023-05-28T07:42:52.935715Z",
     "shell.execute_reply": "2023-05-28T07:42:52.934570Z"
    },
    "papermill": {
     "duration": 0.029113,
     "end_time": "2023-05-28T07:42:52.938323",
     "exception": false,
     "start_time": "2023-05-28T07:42:52.909210",
     "status": "completed"
    },
    "tags": []
   },
   "outputs": [
    {
     "data": {
      "text/plain": [
       "(24845, 19)"
      ]
     },
     "execution_count": 5,
     "metadata": {},
     "output_type": "execute_result"
    }
   ],
   "source": [
    "# drop pointed columns when they have null value\n",
    "columns_to_drop=[\"age_band\", \"highest_education\", \"imd_band\", \"module_presentation\", \"final_result\", \"total_click\"]\n",
    "data = data.dropna(subset=columns_to_drop, axis=0)\n",
    "data.shape"
   ]
  },
  {
   "cell_type": "code",
   "execution_count": 6,
   "id": "cac86022",
   "metadata": {
    "execution": {
     "iopub.execute_input": "2023-05-28T07:42:52.951680Z",
     "iopub.status.busy": "2023-05-28T07:42:52.951260Z",
     "iopub.status.idle": "2023-05-28T07:42:52.980863Z",
     "shell.execute_reply": "2023-05-28T07:42:52.979717Z"
    },
    "papermill": {
     "duration": 0.039517,
     "end_time": "2023-05-28T07:42:52.983585",
     "exception": false,
     "start_time": "2023-05-28T07:42:52.944068",
     "status": "completed"
    },
    "tags": []
   },
   "outputs": [
    {
     "data": {
      "text/html": [
       "<div>\n",
       "<style scoped>\n",
       "    .dataframe tbody tr th:only-of-type {\n",
       "        vertical-align: middle;\n",
       "    }\n",
       "\n",
       "    .dataframe tbody tr th {\n",
       "        vertical-align: top;\n",
       "    }\n",
       "\n",
       "    .dataframe thead th {\n",
       "        text-align: right;\n",
       "    }\n",
       "</style>\n",
       "<table border=\"1\" class=\"dataframe\">\n",
       "  <thead>\n",
       "    <tr style=\"text-align: right;\">\n",
       "      <th></th>\n",
       "      <th>age_band</th>\n",
       "      <th>highest_education</th>\n",
       "      <th>imd_band</th>\n",
       "      <th>module_presentation</th>\n",
       "      <th>final_result</th>\n",
       "      <th>total_click</th>\n",
       "    </tr>\n",
       "  </thead>\n",
       "  <tbody>\n",
       "    <tr>\n",
       "      <th>0</th>\n",
       "      <td>3</td>\n",
       "      <td>3</td>\n",
       "      <td>8.0</td>\n",
       "      <td>2</td>\n",
       "      <td>1</td>\n",
       "      <td>2791.0</td>\n",
       "    </tr>\n",
       "    <tr>\n",
       "      <th>1</th>\n",
       "      <td>3</td>\n",
       "      <td>3</td>\n",
       "      <td>3.0</td>\n",
       "      <td>10</td>\n",
       "      <td>0</td>\n",
       "      <td>646.0</td>\n",
       "    </tr>\n",
       "    <tr>\n",
       "      <th>2</th>\n",
       "      <td>3</td>\n",
       "      <td>3</td>\n",
       "      <td>3.0</td>\n",
       "      <td>12</td>\n",
       "      <td>0</td>\n",
       "      <td>10.0</td>\n",
       "    </tr>\n",
       "    <tr>\n",
       "      <th>3</th>\n",
       "      <td>3</td>\n",
       "      <td>3</td>\n",
       "      <td>9.0</td>\n",
       "      <td>1</td>\n",
       "      <td>1</td>\n",
       "      <td>934.0</td>\n",
       "    </tr>\n",
       "    <tr>\n",
       "      <th>4</th>\n",
       "      <td>1</td>\n",
       "      <td>1</td>\n",
       "      <td>2.0</td>\n",
       "      <td>3</td>\n",
       "      <td>0</td>\n",
       "      <td>161.0</td>\n",
       "    </tr>\n",
       "  </tbody>\n",
       "</table>\n",
       "</div>"
      ],
      "text/plain": [
       "   age_band  highest_education  imd_band  module_presentation  final_result  \\\n",
       "0         3                  3       8.0                    2             1   \n",
       "1         3                  3       3.0                   10             0   \n",
       "2         3                  3       3.0                   12             0   \n",
       "3         3                  3       9.0                    1             1   \n",
       "4         1                  1       2.0                    3             0   \n",
       "\n",
       "   total_click  \n",
       "0       2791.0  \n",
       "1        646.0  \n",
       "2         10.0  \n",
       "3        934.0  \n",
       "4        161.0  "
      ]
     },
     "execution_count": 6,
     "metadata": {},
     "output_type": "execute_result"
    }
   ],
   "source": [
    "# extract age_band, highest_education, imd_band, module_presentation, final_result, total_click\n",
    "extracted_data = data[[\"age_band\", \"highest_education\", \"imd_band\", \"module_presentation\", \"final_result\", \"total_click\"]]\n",
    "extracted_data.head()"
   ]
  },
  {
   "cell_type": "code",
   "execution_count": 7,
   "id": "c5d9ffd9",
   "metadata": {
    "execution": {
     "iopub.execute_input": "2023-05-28T07:42:52.997832Z",
     "iopub.status.busy": "2023-05-28T07:42:52.996991Z",
     "iopub.status.idle": "2023-05-28T07:42:53.004011Z",
     "shell.execute_reply": "2023-05-28T07:42:53.002888Z"
    },
    "papermill": {
     "duration": 0.017109,
     "end_time": "2023-05-28T07:42:53.006695",
     "exception": false,
     "start_time": "2023-05-28T07:42:52.989586",
     "status": "completed"
    },
    "tags": []
   },
   "outputs": [
    {
     "data": {
      "text/plain": [
       "(24845, 6)"
      ]
     },
     "execution_count": 7,
     "metadata": {},
     "output_type": "execute_result"
    }
   ],
   "source": [
    "extracted_data.shape"
   ]
  },
  {
   "cell_type": "code",
   "execution_count": 8,
   "id": "0531ff37",
   "metadata": {
    "execution": {
     "iopub.execute_input": "2023-05-28T07:42:53.020974Z",
     "iopub.status.busy": "2023-05-28T07:42:53.020561Z",
     "iopub.status.idle": "2023-05-28T07:42:53.032312Z",
     "shell.execute_reply": "2023-05-28T07:42:53.030846Z"
    },
    "papermill": {
     "duration": 0.021973,
     "end_time": "2023-05-28T07:42:53.034995",
     "exception": false,
     "start_time": "2023-05-28T07:42:53.013022",
     "status": "completed"
    },
    "tags": []
   },
   "outputs": [
    {
     "name": "stdout",
     "output_type": "stream",
     "text": [
      "(19876, 6) (4969, 6)\n"
     ]
    }
   ],
   "source": [
    "# random forest\n",
    "# dividing data to train data and test data\n",
    "train_df, test_df = np.split(extracted_data.sample(frac=1, random_state=1729), [int(0.8 * len(extracted_data))])\n",
    "print(train_df.shape, test_df.shape)"
   ]
  },
  {
   "cell_type": "code",
   "execution_count": 9,
   "id": "2d4a4597",
   "metadata": {
    "execution": {
     "iopub.execute_input": "2023-05-28T07:42:53.051314Z",
     "iopub.status.busy": "2023-05-28T07:42:53.050935Z",
     "iopub.status.idle": "2023-05-28T07:42:54.450030Z",
     "shell.execute_reply": "2023-05-28T07:42:54.448810Z"
    },
    "papermill": {
     "duration": 1.412254,
     "end_time": "2023-05-28T07:42:54.453575",
     "exception": false,
     "start_time": "2023-05-28T07:42:53.041321",
     "status": "completed"
    },
    "tags": []
   },
   "outputs": [
    {
     "name": "stdout",
     "output_type": "stream",
     "text": [
      "Building training and testing datasets\n",
      "\n",
      "Column order: \n",
      "['age_band', 'highest_education', 'imd_band', 'module_presentation', 'final_result', 'total_click']\n",
      "\n",
      "Label column is:  final_result\n",
      "\n",
      "Data Shape: \n",
      "\n",
      "---- SHAPE OF TRAINING DATA (80%) ----\n",
      "(19876, 5)\n",
      "(19876,)\n",
      "\n",
      "---- SHAPE OF TESTING DATA (20%) ----\n",
      "(4969, 5)\n",
      "(4969,)\n",
      "\n",
      "Training RandomForest Model.....\n",
      "\n",
      "building tree 1 of 100\n",
      "building tree 2 of 100\n",
      "building tree 3 of 100\n",
      "building tree 4 of 100\n",
      "building tree 5 of 100\n",
      "building tree 6 of 100\n",
      "building tree 7 of 100\n",
      "building tree 8 of 100\n",
      "building tree 9 of 100\n",
      "building tree 10 of 100\n",
      "building tree 11 of 100\n",
      "building tree 12 of 100\n",
      "building tree 13 of 100\n"
     ]
    },
    {
     "name": "stderr",
     "output_type": "stream",
     "text": [
      "[Parallel(n_jobs=-1)]: Using backend ThreadingBackend with 4 concurrent workers.\n"
     ]
    },
    {
     "name": "stdout",
     "output_type": "stream",
     "text": [
      "building tree 14 of 100\n",
      "building tree 15 of 100\n",
      "building tree 16 of 100\n",
      "building tree 17 of 100\n",
      "building tree 18 of 100\n",
      "building tree 19 of 100\n",
      "building tree 20 of 100\n",
      "building tree 21 of 100\n",
      "building tree 22 of 100\n",
      "building tree 23 of 100\n",
      "building tree 24 of 100\n",
      "building tree 25 of 100\n",
      "building tree 26 of 100\n",
      "building tree 27 of 100\n",
      "building tree 28 of 100\n",
      "building tree 29 of 100\n",
      "building tree 30 of 100\n",
      "building tree 31 of 100\n",
      "building tree 32 of 100\n",
      "building tree 33 of 100\n",
      "building tree 34 of 100\n",
      "building tree 35 of 100\n",
      "building tree 36 of 100\n",
      "building tree 37 of 100\n",
      "building tree 38 of 100\n",
      "building tree 39 of 100\n",
      "building tree 40 of 100\n",
      "building tree 41 of 100\n"
     ]
    },
    {
     "name": "stderr",
     "output_type": "stream",
     "text": [
      "[Parallel(n_jobs=-1)]: Done  24 tasks      | elapsed:    0.3s\n"
     ]
    },
    {
     "name": "stdout",
     "output_type": "stream",
     "text": [
      "building tree 42 of 100\n",
      "building tree 43 of 100\n",
      "building tree 44 of 100\n",
      "building tree 45 of 100\n",
      "building tree 46 of 100\n",
      "building tree 47 of 100\n",
      "building tree 48 of 100\n",
      "building tree 49 of 100\n",
      "building tree 50 of 100\n",
      "building tree 51 of 100\n",
      "building tree 52 of 100\n",
      "building tree 53 of 100\n",
      "building tree 54 of 100\n",
      "building tree 55 of 100\n",
      "building tree 56 of 100\n",
      "building tree 57 of 100\n",
      "building tree 58 of 100\n",
      "building tree 59 of 100\n",
      "building tree 60 of 100\n",
      "building tree 61 of 100\n",
      "building tree 62 of 100\n",
      "building tree 63 of 100\n",
      "building tree 64 of 100\n",
      "building tree 65 of 100\n",
      "building tree 66 of 100\n",
      "building tree 67 of 100\n",
      "building tree 68 of 100\n",
      "building tree 69 of 100\n",
      "building tree 70 of 100\n",
      "building tree 71 of 100\n",
      "building tree 72 of 100\n",
      "building tree 73 of 100\n",
      "building tree 74 of 100\n",
      "building tree 75 of 100\n",
      "building tree 76 of 100\n",
      "building tree 77 of 100\n",
      "building tree 78 of 100\n",
      "building tree 79 of 100\n",
      "building tree 80 of 100\n",
      "building tree 81 of 100\n",
      "building tree 82 of 100\n",
      "building tree 83 of 100\n",
      "building tree 84 of 100\n",
      "building tree 85 of 100\n",
      "building tree 86 of 100\n",
      "building tree 87 of 100\n",
      "building tree 88 of 100\n",
      "building tree 89 of 100\n",
      "building tree 90 of 100\n",
      "building tree 91 of 100\n",
      "building tree 92 of 100\n",
      "building tree 93 of 100\n",
      "building tree 94 of 100\n",
      "building tree 95 of 100\n",
      "building tree 96 of 100\n",
      "building tree 97 of 100\n",
      "building tree 98 of 100\n",
      "building tree 99 of 100\n",
      "building tree 100 of 100\n",
      "\n",
      "\n",
      "---- METRICS RESULTS FOR TESTING DATA ----\n",
      "\n",
      "Total Rows are:  4969\n",
      "[TESTING] Model Accuracy is:  0.775407526665325\n",
      "[TESTING] Testing Report: \n",
      "              precision    recall  f1-score   support\n",
      "\n",
      "           0       0.73      0.67      0.70      1932\n",
      "           1       0.80      0.85      0.82      3037\n",
      "\n",
      "    accuracy                           0.78      4969\n",
      "   macro avg       0.77      0.76      0.76      4969\n",
      "weighted avg       0.77      0.78      0.77      4969\n",
      "\n"
     ]
    },
    {
     "name": "stderr",
     "output_type": "stream",
     "text": [
      "[Parallel(n_jobs=-1)]: Done 100 out of 100 | elapsed:    1.1s finished\n",
      "[Parallel(n_jobs=4)]: Using backend ThreadingBackend with 4 concurrent workers.\n",
      "[Parallel(n_jobs=4)]: Done  24 tasks      | elapsed:    0.0s\n",
      "[Parallel(n_jobs=4)]: Done 100 out of 100 | elapsed:    0.1s finished\n"
     ]
    }
   ],
   "source": [
    "from sklearn.ensemble import RandomForestClassifier\n",
    "\n",
    "# random forecast\n",
    "features = list(train_df.columns)\n",
    "label = \"final_result\"\n",
    "    \n",
    "print(\"Building training and testing datasets\")\n",
    "print()\n",
    "    \n",
    "X_train = train_df.drop(label, axis=1)\n",
    "y_train = train_df[label]\n",
    "X_test = test_df.drop(label, axis=1)\n",
    "y_test = test_df[label]\n",
    "\n",
    "print('Column order: ')\n",
    "print(features)\n",
    "print()\n",
    "    \n",
    "print(\"Label column is: \",label)\n",
    "print()\n",
    "    \n",
    "print(\"Data Shape: \")\n",
    "print()\n",
    "print(\"---- SHAPE OF TRAINING DATA (80%) ----\")\n",
    "print(X_train.shape)\n",
    "print(y_train.shape)\n",
    "print()\n",
    "print(\"---- SHAPE OF TESTING DATA (20%) ----\")\n",
    "print(X_test.shape)\n",
    "print(y_test.shape)\n",
    "print()\n",
    "    \n",
    "  \n",
    "print(\"Training RandomForest Model.....\")\n",
    "print()\n",
    "n_estimators=100\n",
    "# max_features=5\n",
    "model =  RandomForestClassifier(n_estimators=n_estimators, verbose = 3,n_jobs=-1)\n",
    "model.fit(X_train, y_train)\n",
    "print()\n",
    "    \n",
    "y_pred_test = model.predict(X_test)\n",
    "X_test['predict'] = y_pred_test\n",
    "test_acc = accuracy_score(y_test,y_pred_test)\n",
    "test_rep = classification_report(y_test,y_pred_test)\n",
    "\n",
    "print()\n",
    "print(\"---- METRICS RESULTS FOR TESTING DATA ----\")\n",
    "print()\n",
    "print(\"Total Rows are: \", X_test.shape[0])\n",
    "print('[TESTING] Model Accuracy is: ', test_acc)\n",
    "print('[TESTING] Testing Report: ')\n",
    "print(test_rep)"
   ]
  },
  {
   "cell_type": "code",
   "execution_count": 10,
   "id": "f3444e19",
   "metadata": {
    "execution": {
     "iopub.execute_input": "2023-05-28T07:42:54.470828Z",
     "iopub.status.busy": "2023-05-28T07:42:54.470410Z",
     "iopub.status.idle": "2023-05-28T07:42:54.477878Z",
     "shell.execute_reply": "2023-05-28T07:42:54.476488Z"
    },
    "papermill": {
     "duration": 0.019459,
     "end_time": "2023-05-28T07:42:54.480897",
     "exception": false,
     "start_time": "2023-05-28T07:42:54.461438",
     "status": "completed"
    },
    "tags": []
   },
   "outputs": [],
   "source": [
    "from sklearn.model_selection import GridSearchCV\n",
    "from sklearn.ensemble import RandomForestClassifier\n",
    "import numpy as np\n",
    "\n",
    "max_features_range = np.arange(1,6,1)\n",
    "n_estimators_range = np.arange(10,210,10)\n",
    "param_grid = dict(max_features=max_features_range, n_estimators=n_estimators_range)\n",
    "\n",
    "rf = RandomForestClassifier()\n",
    "\n",
    "grid = GridSearchCV(estimator=rf, param_grid=param_grid, cv=5)"
   ]
  },
  {
   "cell_type": "code",
   "execution_count": 11,
   "id": "54ffa3a0",
   "metadata": {
    "execution": {
     "iopub.execute_input": "2023-05-28T07:42:54.498824Z",
     "iopub.status.busy": "2023-05-28T07:42:54.498152Z",
     "iopub.status.idle": "2023-05-28T07:42:54.504905Z",
     "shell.execute_reply": "2023-05-28T07:42:54.503740Z"
    },
    "papermill": {
     "duration": 0.018365,
     "end_time": "2023-05-28T07:42:54.507211",
     "exception": false,
     "start_time": "2023-05-28T07:42:54.488846",
     "status": "completed"
    },
    "tags": []
   },
   "outputs": [],
   "source": [
    "label = \"final_result\"\n",
    "X_train = train_df\n",
    "y_train = train_df[label]\n",
    "X_test = test_df.drop(label, axis=1)\n",
    "y_test = test_df[label]"
   ]
  },
  {
   "cell_type": "code",
   "execution_count": 12,
   "id": "25ca7e25",
   "metadata": {
    "execution": {
     "iopub.execute_input": "2023-05-28T07:42:54.524973Z",
     "iopub.status.busy": "2023-05-28T07:42:54.524557Z",
     "iopub.status.idle": "2023-05-28T07:49:35.850576Z",
     "shell.execute_reply": "2023-05-28T07:49:35.849332Z"
    },
    "papermill": {
     "duration": 401.345793,
     "end_time": "2023-05-28T07:49:35.860914",
     "exception": false,
     "start_time": "2023-05-28T07:42:54.515121",
     "status": "completed"
    },
    "tags": []
   },
   "outputs": [
    {
     "data": {
      "text/html": [
       "<style>#sk-container-id-1 {color: black;background-color: white;}#sk-container-id-1 pre{padding: 0;}#sk-container-id-1 div.sk-toggleable {background-color: white;}#sk-container-id-1 label.sk-toggleable__label {cursor: pointer;display: block;width: 100%;margin-bottom: 0;padding: 0.3em;box-sizing: border-box;text-align: center;}#sk-container-id-1 label.sk-toggleable__label-arrow:before {content: \"▸\";float: left;margin-right: 0.25em;color: #696969;}#sk-container-id-1 label.sk-toggleable__label-arrow:hover:before {color: black;}#sk-container-id-1 div.sk-estimator:hover label.sk-toggleable__label-arrow:before {color: black;}#sk-container-id-1 div.sk-toggleable__content {max-height: 0;max-width: 0;overflow: hidden;text-align: left;background-color: #f0f8ff;}#sk-container-id-1 div.sk-toggleable__content pre {margin: 0.2em;color: black;border-radius: 0.25em;background-color: #f0f8ff;}#sk-container-id-1 input.sk-toggleable__control:checked~div.sk-toggleable__content {max-height: 200px;max-width: 100%;overflow: auto;}#sk-container-id-1 input.sk-toggleable__control:checked~label.sk-toggleable__label-arrow:before {content: \"▾\";}#sk-container-id-1 div.sk-estimator input.sk-toggleable__control:checked~label.sk-toggleable__label {background-color: #d4ebff;}#sk-container-id-1 div.sk-label input.sk-toggleable__control:checked~label.sk-toggleable__label {background-color: #d4ebff;}#sk-container-id-1 input.sk-hidden--visually {border: 0;clip: rect(1px 1px 1px 1px);clip: rect(1px, 1px, 1px, 1px);height: 1px;margin: -1px;overflow: hidden;padding: 0;position: absolute;width: 1px;}#sk-container-id-1 div.sk-estimator {font-family: monospace;background-color: #f0f8ff;border: 1px dotted black;border-radius: 0.25em;box-sizing: border-box;margin-bottom: 0.5em;}#sk-container-id-1 div.sk-estimator:hover {background-color: #d4ebff;}#sk-container-id-1 div.sk-parallel-item::after {content: \"\";width: 100%;border-bottom: 1px solid gray;flex-grow: 1;}#sk-container-id-1 div.sk-label:hover label.sk-toggleable__label {background-color: #d4ebff;}#sk-container-id-1 div.sk-serial::before {content: \"\";position: absolute;border-left: 1px solid gray;box-sizing: border-box;top: 0;bottom: 0;left: 50%;z-index: 0;}#sk-container-id-1 div.sk-serial {display: flex;flex-direction: column;align-items: center;background-color: white;padding-right: 0.2em;padding-left: 0.2em;position: relative;}#sk-container-id-1 div.sk-item {position: relative;z-index: 1;}#sk-container-id-1 div.sk-parallel {display: flex;align-items: stretch;justify-content: center;background-color: white;position: relative;}#sk-container-id-1 div.sk-item::before, #sk-container-id-1 div.sk-parallel-item::before {content: \"\";position: absolute;border-left: 1px solid gray;box-sizing: border-box;top: 0;bottom: 0;left: 50%;z-index: -1;}#sk-container-id-1 div.sk-parallel-item {display: flex;flex-direction: column;z-index: 1;position: relative;background-color: white;}#sk-container-id-1 div.sk-parallel-item:first-child::after {align-self: flex-end;width: 50%;}#sk-container-id-1 div.sk-parallel-item:last-child::after {align-self: flex-start;width: 50%;}#sk-container-id-1 div.sk-parallel-item:only-child::after {width: 0;}#sk-container-id-1 div.sk-dashed-wrapped {border: 1px dashed gray;margin: 0 0.4em 0.5em 0.4em;box-sizing: border-box;padding-bottom: 0.4em;background-color: white;}#sk-container-id-1 div.sk-label label {font-family: monospace;font-weight: bold;display: inline-block;line-height: 1.2em;}#sk-container-id-1 div.sk-label-container {text-align: center;}#sk-container-id-1 div.sk-container {/* jupyter's `normalize.less` sets `[hidden] { display: none; }` but bootstrap.min.css set `[hidden] { display: none !important; }` so we also need the `!important` here to be able to override the default hidden behavior on the sphinx rendered scikit-learn.org. See: https://github.com/scikit-learn/scikit-learn/issues/21755 */display: inline-block !important;position: relative;}#sk-container-id-1 div.sk-text-repr-fallback {display: none;}</style><div id=\"sk-container-id-1\" class=\"sk-top-container\"><div class=\"sk-text-repr-fallback\"><pre>GridSearchCV(cv=5, estimator=RandomForestClassifier(),\n",
       "             param_grid={&#x27;max_features&#x27;: array([1, 2, 3, 4, 5]),\n",
       "                         &#x27;n_estimators&#x27;: array([ 10,  20,  30,  40,  50,  60,  70,  80,  90, 100, 110, 120, 130,\n",
       "       140, 150, 160, 170, 180, 190, 200])})</pre><b>In a Jupyter environment, please rerun this cell to show the HTML representation or trust the notebook. <br />On GitHub, the HTML representation is unable to render, please try loading this page with nbviewer.org.</b></div><div class=\"sk-container\" hidden><div class=\"sk-item sk-dashed-wrapped\"><div class=\"sk-label-container\"><div class=\"sk-label sk-toggleable\"><input class=\"sk-toggleable__control sk-hidden--visually\" id=\"sk-estimator-id-1\" type=\"checkbox\" ><label for=\"sk-estimator-id-1\" class=\"sk-toggleable__label sk-toggleable__label-arrow\">GridSearchCV</label><div class=\"sk-toggleable__content\"><pre>GridSearchCV(cv=5, estimator=RandomForestClassifier(),\n",
       "             param_grid={&#x27;max_features&#x27;: array([1, 2, 3, 4, 5]),\n",
       "                         &#x27;n_estimators&#x27;: array([ 10,  20,  30,  40,  50,  60,  70,  80,  90, 100, 110, 120, 130,\n",
       "       140, 150, 160, 170, 180, 190, 200])})</pre></div></div></div><div class=\"sk-parallel\"><div class=\"sk-parallel-item\"><div class=\"sk-item\"><div class=\"sk-label-container\"><div class=\"sk-label sk-toggleable\"><input class=\"sk-toggleable__control sk-hidden--visually\" id=\"sk-estimator-id-2\" type=\"checkbox\" ><label for=\"sk-estimator-id-2\" class=\"sk-toggleable__label sk-toggleable__label-arrow\">estimator: RandomForestClassifier</label><div class=\"sk-toggleable__content\"><pre>RandomForestClassifier()</pre></div></div></div><div class=\"sk-serial\"><div class=\"sk-item\"><div class=\"sk-estimator sk-toggleable\"><input class=\"sk-toggleable__control sk-hidden--visually\" id=\"sk-estimator-id-3\" type=\"checkbox\" ><label for=\"sk-estimator-id-3\" class=\"sk-toggleable__label sk-toggleable__label-arrow\">RandomForestClassifier</label><div class=\"sk-toggleable__content\"><pre>RandomForestClassifier()</pre></div></div></div></div></div></div></div></div></div></div>"
      ],
      "text/plain": [
       "GridSearchCV(cv=5, estimator=RandomForestClassifier(),\n",
       "             param_grid={'max_features': array([1, 2, 3, 4, 5]),\n",
       "                         'n_estimators': array([ 10,  20,  30,  40,  50,  60,  70,  80,  90, 100, 110, 120, 130,\n",
       "       140, 150, 160, 170, 180, 190, 200])})"
      ]
     },
     "execution_count": 12,
     "metadata": {},
     "output_type": "execute_result"
    }
   ],
   "source": [
    "grid.fit(X_train, y_train)"
   ]
  },
  {
   "cell_type": "code",
   "execution_count": 13,
   "id": "e60ab75f",
   "metadata": {
    "execution": {
     "iopub.execute_input": "2023-05-28T07:49:35.879159Z",
     "iopub.status.busy": "2023-05-28T07:49:35.878741Z",
     "iopub.status.idle": "2023-05-28T07:49:35.885068Z",
     "shell.execute_reply": "2023-05-28T07:49:35.883522Z"
    },
    "papermill": {
     "duration": 0.018995,
     "end_time": "2023-05-28T07:49:35.888089",
     "exception": false,
     "start_time": "2023-05-28T07:49:35.869094",
     "status": "completed"
    },
    "tags": []
   },
   "outputs": [
    {
     "name": "stdout",
     "output_type": "stream",
     "text": [
      "The best parameters are {'max_features': 1, 'n_estimators': 10} with a score of 1.00\n"
     ]
    }
   ],
   "source": [
    "print(\"The best parameters are %s with a score of %0.2f\"\n",
    "      % (grid.best_params_, grid.best_score_))"
   ]
  },
  {
   "cell_type": "code",
   "execution_count": 14,
   "id": "86059226",
   "metadata": {
    "execution": {
     "iopub.execute_input": "2023-05-28T07:49:35.907754Z",
     "iopub.status.busy": "2023-05-28T07:49:35.907314Z",
     "iopub.status.idle": "2023-05-28T07:49:39.686199Z",
     "shell.execute_reply": "2023-05-28T07:49:39.685009Z"
    },
    "papermill": {
     "duration": 3.793392,
     "end_time": "2023-05-28T07:49:39.690268",
     "exception": false,
     "start_time": "2023-05-28T07:49:35.896876",
     "status": "completed"
    },
    "tags": []
   },
   "outputs": [
    {
     "name": "stdout",
     "output_type": "stream",
     "text": [
      "Building training and testing datasets\n",
      "\n",
      "Column order: \n",
      "['age_band', 'highest_education', 'imd_band', 'module_presentation', 'final_result', 'total_click']\n",
      "\n",
      "Label column is:  final_result\n",
      "\n",
      "Data Shape: \n",
      "\n",
      "---- SHAPE OF TRAINING DATA (80%) ----\n",
      "(19876, 5)\n",
      "(19876,)\n",
      "\n",
      "---- SHAPE OF TESTING DATA (20%) ----\n",
      "(4969, 5)\n",
      "(4969,)\n",
      "\n",
      "Training RandomForest Model.....\n",
      "\n",
      "building tree 1 of 200\n",
      "building tree 2 of 200\n",
      "building tree 3 of 200\n",
      "building tree 4 of 200\n",
      "building tree 5 of 200\n",
      "building tree 6 of 200\n",
      "building tree 7 of 200\n",
      "building tree 8 of 200\n"
     ]
    },
    {
     "name": "stderr",
     "output_type": "stream",
     "text": [
      "[Parallel(n_jobs=-1)]: Using backend ThreadingBackend with 4 concurrent workers.\n"
     ]
    },
    {
     "name": "stdout",
     "output_type": "stream",
     "text": [
      "building tree 9 of 200building tree 10 of 200\n",
      "\n",
      "building tree 11 of 200\n",
      "building tree 12 of 200\n",
      "building tree 13 of 200\n",
      "building tree 14 of 200\n",
      "building tree 15 of 200\n",
      "building tree 16 of 200\n",
      "building tree 17 of 200\n",
      "building tree 18 of 200\n",
      "building tree 19 of 200\n",
      "building tree 20 of 200\n",
      "building tree 21 of 200\n",
      "building tree 22 of 200\n",
      "building tree 23 of 200\n",
      "building tree 24 of 200\n",
      "building tree 25 of 200\n",
      "building tree 26 of 200\n",
      "building tree 27 of 200\n",
      "building tree 28 of 200\n",
      "building tree 29 of 200\n",
      "building tree 30 of 200\n",
      "building tree 31 of 200\n",
      "building tree 32 of 200\n"
     ]
    },
    {
     "name": "stderr",
     "output_type": "stream",
     "text": [
      "[Parallel(n_jobs=-1)]: Done  24 tasks      | elapsed:    0.4s\n"
     ]
    },
    {
     "name": "stdout",
     "output_type": "stream",
     "text": [
      "building tree 33 of 200\n",
      "building tree 34 of 200\n",
      "building tree 35 of 200\n",
      "building tree 36 of 200\n",
      "building tree 37 of 200\n",
      "building tree 38 of 200\n",
      "building tree 39 of 200\n",
      "building tree 40 of 200\n",
      "building tree 41 of 200\n",
      "building tree 42 of 200\n",
      "building tree 43 of 200\n",
      "building tree 44 of 200\n",
      "building tree 45 of 200\n",
      "building tree 46 of 200\n",
      "building tree 47 of 200\n",
      "building tree 48 of 200\n",
      "building tree 49 of 200\n",
      "building tree 50 of 200\n",
      "building tree 51 of 200\n",
      "building tree 52 of 200\n",
      "building tree 53 of 200\n",
      "building tree 54 of 200\n",
      "building tree 55 of 200\n",
      "building tree 56 of 200\n",
      "building tree 57 of 200\n",
      "building tree 58 of 200\n",
      "building tree 59 of 200\n",
      "building tree 60 of 200\n",
      "building tree 61 of 200\n",
      "building tree 62 of 200\n",
      "building tree 63 of 200\n",
      "building tree 64 of 200\n",
      "building tree 65 of 200\n",
      "building tree 66 of 200\n",
      "building tree 67 of 200\n",
      "building tree 68 of 200\n",
      "building tree 69 of 200\n",
      "building tree 70 of 200\n",
      "building tree 71 of 200\n",
      "building tree 72 of 200\n",
      "building tree 73 of 200\n",
      "building tree 74 of 200\n",
      "building tree 75 of 200\n",
      "building tree 76 of 200\n",
      "building tree 77 of 200\n",
      "building tree 78 of 200\n",
      "building tree 79 of 200\n",
      "building tree 80 of 200\n",
      "building tree 81 of 200\n",
      "building tree 82 of 200\n",
      "building tree 83 of 200\n",
      "building tree 84 of 200\n",
      "building tree 85 of 200\n",
      "building tree 86 of 200\n",
      "building tree 87 of 200\n",
      "building tree 88 of 200\n",
      "building tree 89 of 200\n",
      "building tree 90 of 200\n",
      "building tree 91 of 200\n",
      "building tree 92 of 200\n",
      "building tree 93 of 200\n",
      "building tree 94 of 200\n",
      "building tree 95 of 200\n",
      "building tree 96 of 200\n",
      "building tree 97 of 200\n",
      "building tree 98 of 200\n",
      "building tree 99 of 200\n",
      "building tree 100 of 200\n",
      "building tree 101 of 200\n",
      "building tree 102 of 200\n",
      "building tree 103 of 200\n",
      "building tree 104 of 200\n",
      "building tree 105 of 200\n",
      "building tree 106 of 200\n",
      "building tree 107 of 200\n",
      "building tree 108 of 200\n",
      "building tree 109 of 200\n",
      "building tree 110 of 200\n",
      "building tree 111 of 200\n",
      "building tree 112 of 200\n",
      "building tree 113 of 200\n",
      "building tree 114 of 200\n",
      "building tree 115 of 200\n",
      "building tree 116 of 200\n",
      "building tree 117 of 200\n",
      "building tree 118 of 200\n",
      "building tree 119 of 200\n",
      "building tree 120 of 200\n",
      "building tree 121 of 200\n",
      "building tree 122 of 200\n",
      "building tree 123 of 200\n",
      "building tree 124 of 200\n",
      "building tree 125 of 200\n",
      "building tree 126 of 200\n",
      "building tree 127 of 200\n",
      "building tree 128 of 200\n",
      "building tree 129 of 200\n",
      "building tree 130 of 200\n",
      "building tree 131 of 200\n",
      "building tree 132 of 200\n",
      "building tree 133 of 200\n"
     ]
    },
    {
     "name": "stderr",
     "output_type": "stream",
     "text": [
      "[Parallel(n_jobs=-1)]: Done 120 tasks      | elapsed:    2.1s\n"
     ]
    },
    {
     "name": "stdout",
     "output_type": "stream",
     "text": [
      "building tree 134 of 200\n",
      "building tree 135 of 200\n",
      "building tree 136 of 200\n",
      "building tree 137 of 200\n",
      "building tree 138 of 200\n",
      "building tree 139 of 200\n",
      "building tree 140 of 200\n",
      "building tree 141 of 200\n",
      "building tree 142 of 200\n",
      "building tree 143 of 200\n",
      "building tree 144 of 200\n",
      "building tree 145 of 200\n",
      "building tree 146 of 200\n",
      "building tree 147 of 200\n",
      "building tree 148 of 200\n",
      "building tree 149 of 200\n",
      "building tree 150 of 200\n",
      "building tree 151 of 200\n",
      "building tree 152 of 200\n",
      "building tree 153 of 200\n",
      "building tree 154 of 200\n",
      "building tree 155 of 200\n",
      "building tree 156 of 200\n",
      "building tree 157 of 200\n",
      "building tree 158 of 200\n",
      "building tree 159 of 200\n",
      "building tree 160 of 200\n",
      "building tree 161 of 200\n",
      "building tree 162 of 200\n",
      "building tree 163 of 200\n",
      "building tree 164 of 200\n",
      "building tree 165 of 200\n",
      "building tree 166 of 200\n",
      "building tree 167 of 200\n",
      "building tree 168 of 200\n",
      "building tree 169 of 200\n",
      "building tree 170 of 200\n",
      "building tree 171 of 200\n",
      "building tree 172 of 200\n",
      "building tree 173 of 200\n",
      "building tree 174 of 200\n",
      "building tree 175 of 200\n",
      "building tree 176 of 200\n",
      "building tree 177 of 200\n",
      "building tree 178 of 200\n",
      "building tree 179 of 200\n",
      "building tree 180 of 200\n",
      "building tree 181 of 200\n",
      "building tree 182 of 200building tree 183 of 200\n",
      "\n",
      "building tree 184 of 200\n",
      "building tree 185 of 200\n",
      "building tree 186 of 200\n",
      "building tree 187 of 200\n",
      "building tree 188 of 200\n",
      "building tree 189 of 200\n",
      "building tree 190 of 200\n",
      "building tree 191 of 200\n",
      "building tree 192 of 200\n",
      "building tree 193 of 200\n",
      "building tree 194 of 200\n",
      "building tree 195 of 200\n",
      "building tree 196 of 200\n",
      "building tree 197 of 200\n",
      "building tree 198 of 200\n",
      "building tree 199 of 200\n",
      "building tree 200 of 200\n",
      "\n",
      "\n",
      "---- METRICS RESULTS FOR TESTING DATA ----\n",
      "\n",
      "Total Rows are:  4969\n",
      "[TESTING] Model Accuracy is:  0.775608774401288\n",
      "[TESTING] Testing Report: \n",
      "              precision    recall  f1-score   support\n",
      "\n",
      "           0       0.74      0.66      0.70      1932\n",
      "           1       0.80      0.85      0.82      3037\n",
      "\n",
      "    accuracy                           0.78      4969\n",
      "   macro avg       0.77      0.75      0.76      4969\n",
      "weighted avg       0.77      0.78      0.77      4969\n",
      "\n"
     ]
    },
    {
     "name": "stderr",
     "output_type": "stream",
     "text": [
      "[Parallel(n_jobs=-1)]: Done 200 out of 200 | elapsed:    3.5s finished\n",
      "[Parallel(n_jobs=4)]: Using backend ThreadingBackend with 4 concurrent workers.\n",
      "[Parallel(n_jobs=4)]: Done  24 tasks      | elapsed:    0.0s\n",
      "[Parallel(n_jobs=4)]: Done 120 tasks      | elapsed:    0.1s\n",
      "[Parallel(n_jobs=4)]: Done 200 out of 200 | elapsed:    0.2s finished\n"
     ]
    }
   ],
   "source": [
    "# random forecast\n",
    "features = list(train_df.columns)\n",
    "label = \"final_result\"\n",
    "    \n",
    "print(\"Building training and testing datasets\")\n",
    "print()\n",
    "    \n",
    "X_train = train_df.drop(label, axis=1)\n",
    "y_train = train_df[label]\n",
    "X_test = test_df.drop(label, axis=1)\n",
    "y_test = test_df[label]\n",
    "\n",
    "print('Column order: ')\n",
    "print(features)\n",
    "print()\n",
    "    \n",
    "print(\"Label column is: \",label)\n",
    "print()\n",
    "    \n",
    "print(\"Data Shape: \")\n",
    "print()\n",
    "print(\"---- SHAPE OF TRAINING DATA (80%) ----\")\n",
    "print(X_train.shape)\n",
    "print(y_train.shape)\n",
    "print()\n",
    "print(\"---- SHAPE OF TESTING DATA (20%) ----\")\n",
    "print(X_test.shape)\n",
    "print(y_test.shape)\n",
    "print()\n",
    "    \n",
    "  \n",
    "print(\"Training RandomForest Model.....\")\n",
    "print()\n",
    "n_estimators=200\n",
    "max_features=5\n",
    "model =  RandomForestClassifier(n_estimators=n_estimators, max_features=max_features, verbose = 3,n_jobs=-1)\n",
    "model.fit(X_train, y_train)\n",
    "print()\n",
    "    \n",
    "y_pred_test = model.predict(X_test)\n",
    "X_test['predict'] = y_pred_test\n",
    "test_acc = accuracy_score(y_test,y_pred_test)\n",
    "test_rep = classification_report(y_test,y_pred_test)\n",
    "\n",
    "print()\n",
    "print(\"---- METRICS RESULTS FOR TESTING DATA ----\")\n",
    "print()\n",
    "print(\"Total Rows are: \", X_test.shape[0])\n",
    "print('[TESTING] Model Accuracy is: ', test_acc)\n",
    "print('[TESTING] Testing Report: ')\n",
    "print(test_rep)"
   ]
  }
 ],
 "metadata": {
  "kernelspec": {
   "display_name": "Python 3",
   "language": "python",
   "name": "python3"
  },
  "language_info": {
   "codemirror_mode": {
    "name": "ipython",
    "version": 3
   },
   "file_extension": ".py",
   "mimetype": "text/x-python",
   "name": "python",
   "nbconvert_exporter": "python",
   "pygments_lexer": "ipython3",
   "version": "3.10.10"
  },
  "papermill": {
   "default_parameters": {},
   "duration": 424.304952,
   "end_time": "2023-05-28T07:49:40.829991",
   "environment_variables": {},
   "exception": null,
   "input_path": "__notebook__.ipynb",
   "output_path": "__notebook__.ipynb",
   "parameters": {},
   "start_time": "2023-05-28T07:42:36.525039",
   "version": "2.4.0"
  }
 },
 "nbformat": 4,
 "nbformat_minor": 5
}
